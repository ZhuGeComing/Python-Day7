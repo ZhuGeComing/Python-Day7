{
 "cells": [
  {
   "cell_type": "code",
   "execution_count": 8,
   "metadata": {},
   "outputs": [],
   "source": [
    "# coding=utf-8\n",
    "import sys\n",
    "import tkinter as Tk\n",
    "import matplotlib\n",
    "from numpy import arange, sin, pi\n",
    "from matplotlib.backends.backend_tkagg import FigureCanvasTkAgg,NavigationToolbar2TkAgg\n",
    "from matplotlib.backend_bases import key_press_handler\n",
    "from matplotlib.figure import Figure\n",
    "import warnings\n",
    "warnings.filterwarnings(\"ignore\")\n",
    "matplotlib.use('TkAgg')\n",
    "root =Tk.Tk()\n",
    "root.title(\"脚本之家测试 - matplotlib in TK\")\n",
    "#设置图形尺寸与质量\n",
    "f =Figure(figsize=(5,4), dpi=100)\n",
    "a = f.add_subplot(111)\n",
    "t = arange(0.0,3,0.01)\n",
    "s = sin(2*pi*t)\n",
    "#绘制图形\n",
    "a.plot(t, s)\n",
    "#把绘制的图形显示到tkinter窗口上\n",
    "canvas =FigureCanvasTkAgg(f, master=root)\n",
    "canvas.show()\n",
    "canvas.get_tk_widget().pack(side=Tk.TOP, fill=Tk.BOTH, expand=1)\n",
    "#把matplotlib绘制图形的导航工具栏显示到tkinter窗口上\n",
    "toolbar =NavigationToolbar2TkAgg(canvas, root)\n",
    "toolbar.update()\n",
    "canvas._tkcanvas.pack(side=Tk.TOP, fill=Tk.BOTH, expand=1)\n",
    "#定义并绑定键盘事件处理函数\n",
    "def on_key_event(event):\n",
    "  print('you pressed %s'% event.key)\n",
    "  key_press_handler(event, canvas, toolbar)\n",
    "  canvas.mpl_connect('key_press_event', on_key_event)\n",
    "#按钮单击事件处理函数\n",
    "def _quit():\n",
    "  #结束事件主循环，并销毁应用程序窗口\n",
    "  root.quit()\n",
    "  root.destroy()\n",
    "button =Tk.Button(master=root, text='Quit', command=_quit)\n",
    "button.pack(side=Tk.BOTTOM)\n",
    "Tk.mainloop()"
   ]
  },
  {
   "cell_type": "code",
   "execution_count": 12,
   "metadata": {
    "collapsed": true
   },
   "outputs": [],
   "source": [
    "import sys\n",
    "from tkinter import *\n",
    "import matplotlib\n",
    "import numpy as np\n",
    "from matplotlib.backends.backend_tkagg import FigureCanvasTkAgg, NavigationToolbar2TkAgg\n",
    "from matplotlib.figure import Figure\n",
    "import warnings\n",
    "import pandas as pd"
   ]
  },
  {
   "cell_type": "code",
   "execution_count": 28,
   "metadata": {},
   "outputs": [],
   "source": [
    "warnings.filterwarnings('ignore')\n",
    "matplotlib.use('TkAgg')\n",
    "root = Tk()\n",
    "root.title('测试')\n",
    "f = Figure(figsize=(5,4), dpi=120)\n",
    "# a = f.add_subplot(111)\n",
    "# df = pd.read_csv('exp2.txt', header=None, delimiter='\\t')\n",
    "# a.scatter(df.iloc[:, 0], df.iloc[:, 1])\n",
    "\n",
    "canvas = FigureCanvasTkAgg(f, master=root)\n",
    "canvas.show()\n",
    "canvas.get_tk_widget().pack(side=TOP, fill=BOTH, expand=1)\n",
    "\n",
    "toolbar = NavigationToolbar2TkAgg(canvas, root)\n",
    "toolbar.update()\n",
    "canvas._tkcanvas.pack(side=TOP, fill=BOTH, expand=1)\n",
    "\n",
    "def _quit():\n",
    "    root.quit()\n",
    "    root.destroy()\n",
    "Button(master=root, text='Quit', command=_quit).pack(side=BOTTOM)\n",
    "mainloop()"
   ]
  }
 ],
 "metadata": {
  "anaconda-cloud": {},
  "kernelspec": {
   "display_name": "Python [conda root]",
   "language": "python",
   "name": "conda-root-py"
  },
  "language_info": {
   "codemirror_mode": {
    "name": "ipython",
    "version": 3
   },
   "file_extension": ".py",
   "mimetype": "text/x-python",
   "name": "python",
   "nbconvert_exporter": "python",
   "pygments_lexer": "ipython3",
   "version": "3.5.5"
  }
 },
 "nbformat": 4,
 "nbformat_minor": 2
}
