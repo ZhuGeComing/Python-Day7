{
 "cells": [
  {
   "cell_type": "code",
   "execution_count": 4,
   "metadata": {},
   "outputs": [
    {
     "name": "stderr",
     "output_type": "stream",
     "text": [
      "/home/conan/anaconda3/lib/python3.5/site-packages/ipykernel/__main__.py:30: MatplotlibDeprecationWarning: The NavigationToolbar2TkAgg class was deprecated in version 2.2.\n",
      "/home/conan/anaconda3/lib/python3.5/site-packages/ipykernel/__main__.py:51: MatplotlibDeprecationWarning: The FigureCanvasTk.show function was deprecated in version 2.2. Use FigureCanvasTk.draw instead.\n"
     ]
    }
   ],
   "source": [
    "import matplotlib\n",
    "matplotlib.use('TkAgg')\n",
    "\n",
    "import numpy as np\n",
    "from matplotlib.backends.backend_tkagg import FigureCanvasTkAgg, NavigationToolbar2TkAgg\n",
    "from matplotlib.figure import Figure\n",
    "\n",
    "import tkinter as tk\n",
    "\n",
    "class Application(tk.Tk):\n",
    "    '''\n",
    "    文件夹选择程序\n",
    "        界面与逻辑分离\n",
    "    '''\n",
    "    def __init__(self):\n",
    "        '''初始化'''\n",
    "        super().__init__() # 有点相当于tk.Tk()\n",
    "        self.title(\"Embed matplotlib in tkinter\")\n",
    "        \n",
    "        self.createWidgets()\n",
    "\n",
    "    def createWidgets(self):\n",
    "        '''界面'''\n",
    "        fig = Figure(figsize=(5,4), dpi=100)\n",
    "        self.ax = fig.add_subplot(111)\n",
    "        self.canvas = FigureCanvasTkAgg(fig, master=self)\n",
    "        self.canvas.get_tk_widget().pack(side=tk.TOP, fill=tk.BOTH, expand=1)\n",
    "        self.canvas._tkcanvas.pack(side=tk.TOP, fill=tk.BOTH, expand=1)\n",
    "\n",
    "        toolbar = NavigationToolbar2TkAgg(self.canvas, self)\n",
    "        toolbar.update()\n",
    "        footframe = tk.Frame(master=self).pack(side=tk.BOTTOM)\n",
    "\n",
    "        tk.Button(master=footframe, text='重画', command=self.draw).pack(side=tk.BOTTOM)\n",
    "        tk.Button(master=footframe, text='退出', command=self._quit).pack(side=tk.BOTTOM)\n",
    "        \n",
    "        self.draw() # 绘图\n",
    "\n",
    "        \n",
    "    def draw(self):\n",
    "        '''绘图逻辑'''\n",
    "        x = np.random.randint(0,50,size=100)\n",
    "        y = 10*x + np.random.randint(0,50,size=100)\n",
    "        \n",
    "        #self.fig.clf()                  # 方式一：①清除整个Figure区域\n",
    "        #self.ax = self.fig.add_subplot(111)    # ②重新分配Axes区域\n",
    "        self.ax.clear()                  # 方式二：①清除原来的Axes区域\n",
    "\n",
    "        self.ax.scatter(x, y, s=3)  # 重新画\n",
    "        \n",
    "        self.canvas.show()\n",
    "    \n",
    "    \n",
    "    def _quit(self):\n",
    "        '''退出'''\n",
    "        self.quit()     # 停止 mainloop\n",
    "        self.destroy()  # 销毁所有部件\n",
    "\n",
    "        \n",
    "if __name__ == '__main__':\n",
    "    # 实例化Application\n",
    "    app = Application()\n",
    "    \n",
    "    # 主消息循环:\n",
    "    app.mainloop()"
   ]
  }
 ],
 "metadata": {
  "anaconda-cloud": {},
  "kernelspec": {
   "display_name": "Python [conda root]",
   "language": "python",
   "name": "conda-root-py"
  },
  "language_info": {
   "codemirror_mode": {
    "name": "ipython",
    "version": 3
   },
   "file_extension": ".py",
   "mimetype": "text/x-python",
   "name": "python",
   "nbconvert_exporter": "python",
   "pygments_lexer": "ipython3",
   "version": "3.5.5"
  }
 },
 "nbformat": 4,
 "nbformat_minor": 2
}
